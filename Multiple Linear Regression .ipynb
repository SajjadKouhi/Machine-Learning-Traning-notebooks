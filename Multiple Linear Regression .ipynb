{
 "cells": [
  {
   "cell_type": "markdown",
   "id": "338025a0-d3d7-4d9e-84d6-f11257979f63",
   "metadata": {},
   "source": [
    "# Multiple Linear Regression"
   ]
  },
  {
   "cell_type": "code",
   "execution_count": 1,
   "id": "b7d6f2d1-8ba9-433a-8d0e-82038fd5bda4",
   "metadata": {},
   "outputs": [],
   "source": [
    "import numpy as np\n",
    "import pandas as pd \n",
    "import matplotlib.pylab as plt\n",
    "import pylab as pl\n",
    "from sklearn import linear_model\n",
    "%matplotlib inline"
   ]
  },
  {
   "cell_type": "code",
   "execution_count": 2,
   "id": "efc29677-64ea-4da6-b9eb-bef8d952b808",
   "metadata": {},
   "outputs": [
    {
     "data": {
      "text/html": [
       "<div>\n",
       "<style scoped>\n",
       "    .dataframe tbody tr th:only-of-type {\n",
       "        vertical-align: middle;\n",
       "    }\n",
       "\n",
       "    .dataframe tbody tr th {\n",
       "        vertical-align: top;\n",
       "    }\n",
       "\n",
       "    .dataframe thead th {\n",
       "        text-align: right;\n",
       "    }\n",
       "</style>\n",
       "<table border=\"1\" class=\"dataframe\">\n",
       "  <thead>\n",
       "    <tr style=\"text-align: right;\">\n",
       "      <th></th>\n",
       "      <th>Age</th>\n",
       "      <th>BMI</th>\n",
       "      <th>Cholesterol</th>\n",
       "      <th>ExerciseHours</th>\n",
       "      <th>SystolicBP</th>\n",
       "    </tr>\n",
       "  </thead>\n",
       "  <tbody>\n",
       "    <tr>\n",
       "      <th>0</th>\n",
       "      <td>55</td>\n",
       "      <td>24.5</td>\n",
       "      <td>190</td>\n",
       "      <td>6</td>\n",
       "      <td>97.8</td>\n",
       "    </tr>\n",
       "    <tr>\n",
       "      <th>1</th>\n",
       "      <td>25</td>\n",
       "      <td>18.6</td>\n",
       "      <td>185</td>\n",
       "      <td>9</td>\n",
       "      <td>63.1</td>\n",
       "    </tr>\n",
       "    <tr>\n",
       "      <th>2</th>\n",
       "      <td>50</td>\n",
       "      <td>34.3</td>\n",
       "      <td>234</td>\n",
       "      <td>3</td>\n",
       "      <td>130.0</td>\n",
       "    </tr>\n",
       "    <tr>\n",
       "      <th>3</th>\n",
       "      <td>38</td>\n",
       "      <td>32.0</td>\n",
       "      <td>221</td>\n",
       "      <td>9</td>\n",
       "      <td>97.2</td>\n",
       "    </tr>\n",
       "    <tr>\n",
       "      <th>4</th>\n",
       "      <td>63</td>\n",
       "      <td>31.6</td>\n",
       "      <td>204</td>\n",
       "      <td>7</td>\n",
       "      <td>122.4</td>\n",
       "    </tr>\n",
       "  </tbody>\n",
       "</table>\n",
       "</div>"
      ],
      "text/plain": [
       "   Age   BMI  Cholesterol  ExerciseHours  SystolicBP\n",
       "0   55  24.5          190              6        97.8\n",
       "1   25  18.6          185              9        63.1\n",
       "2   50  34.3          234              3       130.0\n",
       "3   38  32.0          221              9        97.2\n",
       "4   63  31.6          204              7       122.4"
      ]
     },
     "execution_count": 2,
     "metadata": {},
     "output_type": "execute_result"
    }
   ],
   "source": [
    "df = pd.read_csv('patients_large.csv')\n",
    "df.head()"
   ]
  },
  {
   "cell_type": "code",
   "execution_count": 3,
   "id": "1a7d56b9-78d3-48b1-901e-e32b6e06c088",
   "metadata": {},
   "outputs": [
    {
     "data": {
      "text/html": [
       "<div>\n",
       "<style scoped>\n",
       "    .dataframe tbody tr th:only-of-type {\n",
       "        vertical-align: middle;\n",
       "    }\n",
       "\n",
       "    .dataframe tbody tr th {\n",
       "        vertical-align: top;\n",
       "    }\n",
       "\n",
       "    .dataframe thead th {\n",
       "        text-align: right;\n",
       "    }\n",
       "</style>\n",
       "<table border=\"1\" class=\"dataframe\">\n",
       "  <thead>\n",
       "    <tr style=\"text-align: right;\">\n",
       "      <th></th>\n",
       "      <th>Age</th>\n",
       "      <th>BMI</th>\n",
       "      <th>Cholesterol</th>\n",
       "      <th>ExerciseHours</th>\n",
       "      <th>SystolicBP</th>\n",
       "    </tr>\n",
       "  </thead>\n",
       "  <tbody>\n",
       "    <tr>\n",
       "      <th>count</th>\n",
       "      <td>1000.000000</td>\n",
       "      <td>1000.000000</td>\n",
       "      <td>1000.000000</td>\n",
       "      <td>1000.000000</td>\n",
       "      <td>1000.000000</td>\n",
       "    </tr>\n",
       "    <tr>\n",
       "      <th>mean</th>\n",
       "      <td>44.626000</td>\n",
       "      <td>26.413800</td>\n",
       "      <td>198.294000</td>\n",
       "      <td>4.503000</td>\n",
       "      <td>104.410900</td>\n",
       "    </tr>\n",
       "    <tr>\n",
       "      <th>std</th>\n",
       "      <td>14.379461</td>\n",
       "      <td>4.855987</td>\n",
       "      <td>28.413005</td>\n",
       "      <td>2.889003</td>\n",
       "      <td>17.972801</td>\n",
       "    </tr>\n",
       "    <tr>\n",
       "      <th>min</th>\n",
       "      <td>20.000000</td>\n",
       "      <td>18.000000</td>\n",
       "      <td>150.000000</td>\n",
       "      <td>0.000000</td>\n",
       "      <td>55.000000</td>\n",
       "    </tr>\n",
       "    <tr>\n",
       "      <th>25%</th>\n",
       "      <td>32.000000</td>\n",
       "      <td>22.000000</td>\n",
       "      <td>174.000000</td>\n",
       "      <td>2.000000</td>\n",
       "      <td>92.375000</td>\n",
       "    </tr>\n",
       "    <tr>\n",
       "      <th>50%</th>\n",
       "      <td>45.000000</td>\n",
       "      <td>26.500000</td>\n",
       "      <td>196.000000</td>\n",
       "      <td>5.000000</td>\n",
       "      <td>105.000000</td>\n",
       "    </tr>\n",
       "    <tr>\n",
       "      <th>75%</th>\n",
       "      <td>57.000000</td>\n",
       "      <td>30.700000</td>\n",
       "      <td>222.000000</td>\n",
       "      <td>7.000000</td>\n",
       "      <td>116.800000</td>\n",
       "    </tr>\n",
       "    <tr>\n",
       "      <th>max</th>\n",
       "      <td>69.000000</td>\n",
       "      <td>34.900000</td>\n",
       "      <td>249.000000</td>\n",
       "      <td>9.000000</td>\n",
       "      <td>156.000000</td>\n",
       "    </tr>\n",
       "  </tbody>\n",
       "</table>\n",
       "</div>"
      ],
      "text/plain": [
       "               Age          BMI  Cholesterol  ExerciseHours   SystolicBP\n",
       "count  1000.000000  1000.000000  1000.000000    1000.000000  1000.000000\n",
       "mean     44.626000    26.413800   198.294000       4.503000   104.410900\n",
       "std      14.379461     4.855987    28.413005       2.889003    17.972801\n",
       "min      20.000000    18.000000   150.000000       0.000000    55.000000\n",
       "25%      32.000000    22.000000   174.000000       2.000000    92.375000\n",
       "50%      45.000000    26.500000   196.000000       5.000000   105.000000\n",
       "75%      57.000000    30.700000   222.000000       7.000000   116.800000\n",
       "max      69.000000    34.900000   249.000000       9.000000   156.000000"
      ]
     },
     "execution_count": 3,
     "metadata": {},
     "output_type": "execute_result"
    }
   ],
   "source": [
    "df.describe()"
   ]
  },
  {
   "cell_type": "code",
   "execution_count": 21,
   "id": "a1ca16d7-c239-480f-a01c-8939e43fd0fc",
   "metadata": {},
   "outputs": [
    {
     "data": {
      "text/html": [
       "<div>\n",
       "<style scoped>\n",
       "    .dataframe tbody tr th:only-of-type {\n",
       "        vertical-align: middle;\n",
       "    }\n",
       "\n",
       "    .dataframe tbody tr th {\n",
       "        vertical-align: top;\n",
       "    }\n",
       "\n",
       "    .dataframe thead th {\n",
       "        text-align: right;\n",
       "    }\n",
       "</style>\n",
       "<table border=\"1\" class=\"dataframe\">\n",
       "  <thead>\n",
       "    <tr style=\"text-align: right;\">\n",
       "      <th></th>\n",
       "      <th>BMI</th>\n",
       "      <th>Cholesterol</th>\n",
       "      <th>SystolicBP</th>\n",
       "      <th>ExerciseHours</th>\n",
       "      <th>Age</th>\n",
       "    </tr>\n",
       "  </thead>\n",
       "  <tbody>\n",
       "    <tr>\n",
       "      <th>0</th>\n",
       "      <td>24.5</td>\n",
       "      <td>190</td>\n",
       "      <td>97.8</td>\n",
       "      <td>6</td>\n",
       "      <td>55</td>\n",
       "    </tr>\n",
       "    <tr>\n",
       "      <th>1</th>\n",
       "      <td>18.6</td>\n",
       "      <td>185</td>\n",
       "      <td>63.1</td>\n",
       "      <td>9</td>\n",
       "      <td>25</td>\n",
       "    </tr>\n",
       "    <tr>\n",
       "      <th>2</th>\n",
       "      <td>34.3</td>\n",
       "      <td>234</td>\n",
       "      <td>130.0</td>\n",
       "      <td>3</td>\n",
       "      <td>50</td>\n",
       "    </tr>\n",
       "    <tr>\n",
       "      <th>3</th>\n",
       "      <td>32.0</td>\n",
       "      <td>221</td>\n",
       "      <td>97.2</td>\n",
       "      <td>9</td>\n",
       "      <td>38</td>\n",
       "    </tr>\n",
       "    <tr>\n",
       "      <th>4</th>\n",
       "      <td>31.6</td>\n",
       "      <td>204</td>\n",
       "      <td>122.4</td>\n",
       "      <td>7</td>\n",
       "      <td>63</td>\n",
       "    </tr>\n",
       "  </tbody>\n",
       "</table>\n",
       "</div>"
      ],
      "text/plain": [
       "    BMI  Cholesterol  SystolicBP  ExerciseHours  Age\n",
       "0  24.5          190        97.8              6   55\n",
       "1  18.6          185        63.1              9   25\n",
       "2  34.3          234       130.0              3   50\n",
       "3  32.0          221        97.2              9   38\n",
       "4  31.6          204       122.4              7   63"
      ]
     },
     "execution_count": 21,
     "metadata": {},
     "output_type": "execute_result"
    }
   ],
   "source": [
    "cdf = df[['BMI' , 'Cholesterol' ,  'SystolicBP','ExerciseHours'  , 'Age']]\n",
    "cdf.head()"
   ]
  },
  {
   "cell_type": "code",
   "execution_count": 22,
   "id": "25979310-dfff-40be-8035-354241b0e6da",
   "metadata": {},
   "outputs": [],
   "source": [
    "mask = np.random.randn(len(df)) < 0.8\n",
    "train = cdf[mask]\n",
    "test = cdf [~mask]"
   ]
  },
  {
   "cell_type": "code",
   "execution_count": 23,
   "id": "b40ae022-6b4d-40ab-9056-f680c4c8a39c",
   "metadata": {},
   "outputs": [
    {
     "name": "stdout",
     "output_type": "stream",
     "text": [
      "Coefficent :  [[ 1.13712718  0.30774904 -1.83954222  0.54871606]]\n",
      "Intercept :  [-3.11809293]\n"
     ]
    }
   ],
   "source": [
    "regr = linear_model.LinearRegression()\n",
    "x = np.asanyarray(train[['BMI' ,'Cholesterol' , 'ExerciseHours'  , 'Age']])\n",
    "y = np.asanyarray(train [['SystolicBP']])\n",
    "regr.fit(x,y)\n",
    "print('Coefficent : ' , regr.coef_)\n",
    "print('Intercept : ' , regr.intercept_)"
   ]
  },
  {
   "cell_type": "markdown",
   "id": "b5051846-7dd6-4074-a805-d8a1ce6f1789",
   "metadata": {},
   "source": [
    "## ForeCast New Patient"
   ]
  },
  {
   "cell_type": "code",
   "execution_count": 28,
   "id": "ad420b17-4c27-489f-a61c-101ff8f759e6",
   "metadata": {},
   "outputs": [
    {
     "name": "stdout",
     "output_type": "stream",
     "text": [
      "Predicted SystolicBP: 72.12806708678198\n"
     ]
    }
   ],
   "source": [
    "new_patient = [[18.6 , 185 , 9 , 25]]\n",
    "predicted_bp = regr.predict(new_patient)\n",
    "print(\"Predicted SystolicBP:\", predicted_bp[0][0])"
   ]
  },
  {
   "cell_type": "code",
   "execution_count": 24,
   "id": "3ada6573-7fbb-4122-a033-576a95b5b8b9",
   "metadata": {},
   "outputs": [
    {
     "name": "stdout",
     "output_type": "stream",
     "text": [
      "Mean : 113.7997735018898\n",
      "Variance Score :   0.650685406210112\n"
     ]
    },
    {
     "name": "stderr",
     "output_type": "stream",
     "text": [
      "C:\\Users\\sajjad\\AppData\\Local\\Programs\\Python\\Python313\\Lib\\site-packages\\sklearn\\utils\\validation.py:2742: UserWarning: X has feature names, but LinearRegression was fitted without feature names\n",
      "  warnings.warn(\n"
     ]
    }
   ],
   "source": [
    "y_hat = regr.predict(test[['BMI' ,'Cholesterol' ,  'ExerciseHours' , 'Age']])\n",
    "x = np.asanyarray(test[['BMI' ,'Cholesterol','ExerciseHours'    , 'Age']]) \n",
    "y = np.asanyarray(test[['SystolicBP']])\n",
    "\n",
    "print('Mean :' , np.mean((y_hat - y)**2))\n",
    "print('Variance Score :  ' , regr.score(x,y))"
   ]
  },
  {
   "cell_type": "code",
   "execution_count": null,
   "id": "b5f573ff-c8ef-40e8-be9e-17bf9a2adf52",
   "metadata": {},
   "outputs": [],
   "source": []
  }
 ],
 "metadata": {
  "kernelspec": {
   "display_name": "Python 3 (ipykernel)",
   "language": "python",
   "name": "python3"
  },
  "language_info": {
   "codemirror_mode": {
    "name": "ipython",
    "version": 3
   },
   "file_extension": ".py",
   "mimetype": "text/x-python",
   "name": "python",
   "nbconvert_exporter": "python",
   "pygments_lexer": "ipython3",
   "version": "3.13.0"
  }
 },
 "nbformat": 4,
 "nbformat_minor": 5
}
